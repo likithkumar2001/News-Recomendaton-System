{
  "nbformat": 4,
  "nbformat_minor": 0,
  "metadata": {
    "colab": {
      "name": "RECOMENDATION.ipynb",
      "provenance": [],
      "collapsed_sections": []
    },
    "kernelspec": {
      "display_name": "Python 3",
      "name": "python3"
    },
    "language_info": {
      "name": "python"
    }
  },
  "cells": [
    {
      "cell_type": "code",
      "metadata": {
        "id": "FGneO4cXUqN2"
      },
      "source": [
        "x=['sports/ipl2020/news','sports/football','sports/tennis','sports/badminton','sports/athletics','sports/other-sports','india','fact-check','lifestyle/health','technology/news','technology/talking-points','data-intelligence-unit','cities','education-today','education-today/gk-and-current-affairs','education-today/notification','education-today/jobs-and-careers','trending-news','binge-watch','world']"
      ],
      "execution_count": null,
      "outputs": []
    },
    {
      "cell_type": "code",
      "metadata": {
        "colab": {
          "base_uri": "https://localhost:8080/"
        },
        "id": "_Ak1ngrSnShk",
        "outputId": "c928c9a2-0fec-46c6-ed69-96b327f2177e"
      },
      "source": [
        "len(x)"
      ],
      "execution_count": null,
      "outputs": [
        {
          "output_type": "execute_result",
          "data": {
            "text/plain": [
              "20"
            ]
          },
          "metadata": {
            "tags": []
          },
          "execution_count": 148
        }
      ]
    },
    {
      "cell_type": "code",
      "metadata": {
        "id": "ERoc2rV2PWn1"
      },
      "source": [
        "from bs4 import BeautifulSoup\n",
        "import urllib.request,sys,time\n",
        "import requests\n",
        "import pandas as pd\n",
        "filename = \"/content/drive/MyDrive/data/news.csv\"\n",
        "f = open(filename, \"a\", encoding='utf-8')\n",
        "headers = \"Id,Title,Summary,Category,\\n\"\n",
        "f.write(headers)\n",
        "news_ = ['sports/ipl2020/news','sports/football','sports/tennis','sports/badminton','sports/athletics','sports/other-sports','india','fact-check','lifestyle/health','technology/news','technology/talking-points','data-intelligence-unit','cities','education-today','education-today/gk-and-current-affairs','education-today/notification','education-today/jobs-and-careers','trending-news','binge-watch','world']\n",
        "i = -1\n",
        "sr_no = 1\n",
        "upperframe = []\n",
        "for num in range(15*len(news_)):\n",
        "  if(num%15 == 0):\n",
        "    i=i+1\n",
        "  url = 'https://www.indiatoday.in/' + str(news_[i]) +'?page='+str(num%15)\n",
        "  print(url)\n",
        "  page = requests.get(str(url))\n",
        "  time.sleep(1)\n",
        "  soup = BeautifulSoup(page.text, 'html.parser')\n",
        "  frame = []\n",
        "  links = soup.find_all('div', attrs={'class':'detail'})\n",
        "  for j in links:\n",
        "    news_id = str(sr_no)\n",
        "    title = j.find(\"h2\").find('a').text.strip()\n",
        "    try:\n",
        "      summary = j.find(\"p\").text.strip()\n",
        "    except:\n",
        "      summary = ''\n",
        "    category = str(news_[i])\n",
        "    frame.append((news_id,title,summary,category))\n",
        "    title=title.replace(\"\\n\", \"\")\n",
        "    summary=summary.replace(\"\\n\", \"\")\n",
        "    f.write(news_id.replace(\",\", \"^\") + \",\" + title.replace(\",\", \"^\") + \",\" + summary.replace(\",\", \"^\") + \",\" + category.replace(\",\", \"^\") + \",\" + url+\"\\n\")\n",
        "    sr_no += 1\n",
        "  upperframe.extend(frame)\n",
        "f.close()\n"
      ],
      "execution_count": null,
      "outputs": []
    },
    {
      "cell_type": "code",
      "metadata": {
        "colab": {
          "base_uri": "https://localhost:8080/",
          "height": 371
        },
        "id": "WGURmL7rTUUb",
        "outputId": "c66aa9db-0368-4f83-8ae8-f353d6f0f3dc"
      },
      "source": [
        "import pandas as pd\n",
        "data = pd.read_csv(\"/content/drive/MyDrive/data/news.csv\")\n",
        "data.head()"
      ],
      "execution_count": 21,
      "outputs": [
        {
          "output_type": "execute_result",
          "data": {
            "text/html": [
              "<div>\n",
              "<style scoped>\n",
              "    .dataframe tbody tr th:only-of-type {\n",
              "        vertical-align: middle;\n",
              "    }\n",
              "\n",
              "    .dataframe tbody tr th {\n",
              "        vertical-align: top;\n",
              "    }\n",
              "\n",
              "    .dataframe thead th {\n",
              "        text-align: right;\n",
              "    }\n",
              "</style>\n",
              "<table border=\"1\" class=\"dataframe\">\n",
              "  <thead>\n",
              "    <tr style=\"text-align: right;\">\n",
              "      <th></th>\n",
              "      <th>Id</th>\n",
              "      <th>Title</th>\n",
              "      <th>Summary</th>\n",
              "      <th>Category</th>\n",
              "      <th>Unnamed: 4</th>\n",
              "    </tr>\n",
              "  </thead>\n",
              "  <tbody>\n",
              "    <tr>\n",
              "      <th>0</th>\n",
              "      <td>1</td>\n",
              "      <td>Kohli is absolutely not what you see on the cr...</td>\n",
              "      <td>Adam Zampa opened up about his first day at Ro...</td>\n",
              "      <td>sports/ipl2020/news</td>\n",
              "      <td>https://www.indiatoday.in/sports/ipl2020/news?...</td>\n",
              "    </tr>\n",
              "    <tr>\n",
              "      <th>1</th>\n",
              "      <td>2</td>\n",
              "      <td>David Warner^ Virat Kohli miss out on Deep Das...</td>\n",
              "      <td>Pragyan Ojha and Deep Dasgupta had the task of...</td>\n",
              "      <td>sports/ipl2020/news</td>\n",
              "      <td>https://www.indiatoday.in/sports/ipl2020/news?...</td>\n",
              "    </tr>\n",
              "    <tr>\n",
              "      <th>2</th>\n",
              "      <td>3</td>\n",
              "      <td>Have no issues with Kohli: Suryakumar on 'star...</td>\n",
              "      <td>Suryakumar Yadav and Virat Kohli's stare incid...</td>\n",
              "      <td>sports/ipl2020/news</td>\n",
              "      <td>https://www.indiatoday.in/sports/ipl2020/news?...</td>\n",
              "    </tr>\n",
              "    <tr>\n",
              "      <th>3</th>\n",
              "      <td>4</td>\n",
              "      <td>Left training mid-way^ didn't feel like eating...</td>\n",
              "      <td>Suryakumar Yadav missed out on the plane to Au...</td>\n",
              "      <td>sports/ipl2020/news</td>\n",
              "      <td>https://www.indiatoday.in/sports/ipl2020/news?...</td>\n",
              "    </tr>\n",
              "    <tr>\n",
              "      <th>4</th>\n",
              "      <td>5</td>\n",
              "      <td>Sehwag is outspoken of his dislike for me: Max...</td>\n",
              "      <td>Kings XI Punjab batsman Glenn Maxwell has resp...</td>\n",
              "      <td>sports/ipl2020/news</td>\n",
              "      <td>https://www.indiatoday.in/sports/ipl2020/news?...</td>\n",
              "    </tr>\n",
              "  </tbody>\n",
              "</table>\n",
              "</div>"
            ],
            "text/plain": [
              "  Id  ...                                         Unnamed: 4\n",
              "0  1  ...  https://www.indiatoday.in/sports/ipl2020/news?...\n",
              "1  2  ...  https://www.indiatoday.in/sports/ipl2020/news?...\n",
              "2  3  ...  https://www.indiatoday.in/sports/ipl2020/news?...\n",
              "3  4  ...  https://www.indiatoday.in/sports/ipl2020/news?...\n",
              "4  5  ...  https://www.indiatoday.in/sports/ipl2020/news?...\n",
              "\n",
              "[5 rows x 5 columns]"
            ]
          },
          "metadata": {
            "tags": []
          },
          "execution_count": 21
        }
      ]
    },
    {
      "cell_type": "code",
      "metadata": {
        "colab": {
          "base_uri": "https://localhost:8080/"
        },
        "id": "mAWRuwwpibM2",
        "outputId": "5693bbe8-3e72-415f-9438-35483dc29032"
      },
      "source": [
        "data.shape"
      ],
      "execution_count": 3,
      "outputs": [
        {
          "output_type": "execute_result",
          "data": {
            "text/plain": [
              "(6841, 5)"
            ]
          },
          "metadata": {
            "tags": []
          },
          "execution_count": 3
        }
      ]
    },
    {
      "cell_type": "code",
      "metadata": {
        "id": "NfKDgjE0wjFw"
      },
      "source": [
        "import re\n",
        "def transform(sen):\n",
        "    sentence = re.sub('[^a-zA-Z]', ' ', sen)\n",
        "    sentence = re.sub(r\"\\s+[a-zA-Z]\\s+\", ' ', sentence)\n",
        "    sentence = re.sub(r'\\s+', ' ', sentence)\n",
        "    return sentence"
      ],
      "execution_count": 4,
      "outputs": []
    },
    {
      "cell_type": "code",
      "metadata": {
        "id": "N0-idPuI2s6-"
      },
      "source": [
        "for i in range(len(data['Summary'])):\n",
        "  sen=str(data['Summary'][i])\n",
        "  data['Summary'][i] = transform(sen)\n",
        "for i in range(len(data['Title'])):\n",
        "  sen=str(data['Title'][i])\n",
        "  data['Title'][i] = transform(sen)"
      ],
      "execution_count": 5,
      "outputs": []
    },
    {
      "cell_type": "code",
      "metadata": {
        "id": "hPywUSgsi7qn"
      },
      "source": [
        "for i in range(len(data['Category'])):\n",
        "  data['Category'][i]=data['Category'][i].replace(\"/\",\" \")"
      ],
      "execution_count": 6,
      "outputs": []
    },
    {
      "cell_type": "code",
      "metadata": {
        "colab": {
          "base_uri": "https://localhost:8080/",
          "height": 371
        },
        "id": "zAIMy2DQiy0K",
        "outputId": "7e9f4863-ed4e-458b-f8ea-ce40c368e236"
      },
      "source": [
        "data.head()"
      ],
      "execution_count": 7,
      "outputs": [
        {
          "output_type": "execute_result",
          "data": {
            "text/html": [
              "<div>\n",
              "<style scoped>\n",
              "    .dataframe tbody tr th:only-of-type {\n",
              "        vertical-align: middle;\n",
              "    }\n",
              "\n",
              "    .dataframe tbody tr th {\n",
              "        vertical-align: top;\n",
              "    }\n",
              "\n",
              "    .dataframe thead th {\n",
              "        text-align: right;\n",
              "    }\n",
              "</style>\n",
              "<table border=\"1\" class=\"dataframe\">\n",
              "  <thead>\n",
              "    <tr style=\"text-align: right;\">\n",
              "      <th></th>\n",
              "      <th>Id</th>\n",
              "      <th>Title</th>\n",
              "      <th>Summary</th>\n",
              "      <th>Category</th>\n",
              "      <th>Unnamed: 4</th>\n",
              "    </tr>\n",
              "  </thead>\n",
              "  <tbody>\n",
              "    <tr>\n",
              "      <th>0</th>\n",
              "      <td>1</td>\n",
              "      <td>Kohli is absolutely not what you see on the cr...</td>\n",
              "      <td>Adam Zampa opened up about his first day at Ro...</td>\n",
              "      <td>sports ipl2020 news</td>\n",
              "      <td>https://www.indiatoday.in/sports/ipl2020/news?...</td>\n",
              "    </tr>\n",
              "    <tr>\n",
              "      <th>1</th>\n",
              "      <td>2</td>\n",
              "      <td>David Warner Virat Kohli miss out on Deep Dasg...</td>\n",
              "      <td>Pragyan Ojha and Deep Dasgupta had the task of...</td>\n",
              "      <td>sports ipl2020 news</td>\n",
              "      <td>https://www.indiatoday.in/sports/ipl2020/news?...</td>\n",
              "    </tr>\n",
              "    <tr>\n",
              "      <th>2</th>\n",
              "      <td>3</td>\n",
              "      <td>Have no issues with Kohli Suryakumar on stare ...</td>\n",
              "      <td>Suryakumar Yadav and Virat Kohli stare inciden...</td>\n",
              "      <td>sports ipl2020 news</td>\n",
              "      <td>https://www.indiatoday.in/sports/ipl2020/news?...</td>\n",
              "    </tr>\n",
              "    <tr>\n",
              "      <th>3</th>\n",
              "      <td>4</td>\n",
              "      <td>Left training mid way didn feel like eating af...</td>\n",
              "      <td>Suryakumar Yadav missed out on the plane to Au...</td>\n",
              "      <td>sports ipl2020 news</td>\n",
              "      <td>https://www.indiatoday.in/sports/ipl2020/news?...</td>\n",
              "    </tr>\n",
              "    <tr>\n",
              "      <th>4</th>\n",
              "      <td>5</td>\n",
              "      <td>Sehwag is outspoken of his dislike for me Maxw...</td>\n",
              "      <td>Kings XI Punjab batsman Glenn Maxwell has resp...</td>\n",
              "      <td>sports ipl2020 news</td>\n",
              "      <td>https://www.indiatoday.in/sports/ipl2020/news?...</td>\n",
              "    </tr>\n",
              "  </tbody>\n",
              "</table>\n",
              "</div>"
            ],
            "text/plain": [
              "  Id  ...                                         Unnamed: 4\n",
              "0  1  ...  https://www.indiatoday.in/sports/ipl2020/news?...\n",
              "1  2  ...  https://www.indiatoday.in/sports/ipl2020/news?...\n",
              "2  3  ...  https://www.indiatoday.in/sports/ipl2020/news?...\n",
              "3  4  ...  https://www.indiatoday.in/sports/ipl2020/news?...\n",
              "4  5  ...  https://www.indiatoday.in/sports/ipl2020/news?...\n",
              "\n",
              "[5 rows x 5 columns]"
            ]
          },
          "metadata": {
            "tags": []
          },
          "execution_count": 7
        }
      ]
    },
    {
      "cell_type": "code",
      "metadata": {
        "id": "WyHMc3-z4AL2"
      },
      "source": [
        "news = data['Summary']"
      ],
      "execution_count": 8,
      "outputs": []
    },
    {
      "cell_type": "code",
      "metadata": {
        "colab": {
          "base_uri": "https://localhost:8080/",
          "height": 54
        },
        "id": "YJDgoIJF6bJE",
        "outputId": "5a86adb9-059f-4d4d-b07f-c756d4d15bfa"
      },
      "source": [
        "news[1]"
      ],
      "execution_count": 9,
      "outputs": [
        {
          "output_type": "execute_result",
          "data": {
            "application/vnd.google.colaboratory.intrinsic+json": {
              "type": "string"
            },
            "text/plain": [
              "'Pragyan Ojha and Deep Dasgupta had the task of selecting playing XIs each one as their IPL XI and another that they felt had the chance of beating time champions Mumbai Indians '"
            ]
          },
          "metadata": {
            "tags": []
          },
          "execution_count": 9
        }
      ]
    },
    {
      "cell_type": "code",
      "metadata": {
        "colab": {
          "base_uri": "https://localhost:8080/"
        },
        "id": "8nI7Zqhe6sbt",
        "outputId": "6b56daee-396a-4a78-c490-652b64ad0098"
      },
      "source": [
        "import nltk\n",
        "nltk.download('wordnet')\n",
        "nltk.download('stopwords')\n",
        "nltk.download('punkt')"
      ],
      "execution_count": 10,
      "outputs": [
        {
          "output_type": "stream",
          "text": [
            "[nltk_data] Downloading package wordnet to /root/nltk_data...\n",
            "[nltk_data]   Unzipping corpora/wordnet.zip.\n",
            "[nltk_data] Downloading package stopwords to /root/nltk_data...\n",
            "[nltk_data]   Unzipping corpora/stopwords.zip.\n",
            "[nltk_data] Downloading package punkt to /root/nltk_data...\n",
            "[nltk_data]   Unzipping tokenizers/punkt.zip.\n"
          ],
          "name": "stdout"
        },
        {
          "output_type": "execute_result",
          "data": {
            "text/plain": [
              "True"
            ]
          },
          "metadata": {
            "tags": []
          },
          "execution_count": 10
        }
      ]
    },
    {
      "cell_type": "code",
      "metadata": {
        "id": "yrCILRYhMGKN"
      },
      "source": [
        "def words(news):\n",
        "  from nltk.corpus import stopwords\n",
        "  from nltk.tokenize import word_tokenize\n",
        "  from nltk.stem import WordNetLemmatizer\n",
        "  for i in range(len(news)):\n",
        "    news[i]=word_tokenize(news[i])\n",
        "    for j in range(len(news[i])):\n",
        "      if news[i][j].lower() in my_stopwords:\n",
        "        news[i][j] =\"\"\n",
        "  unwanted = {''}\n",
        "  for i in range(len(news)):\n",
        "    news[i] = [e for e in news[i] if e not in unwanted]\n",
        "  lemmatizer = WordNetLemmatizer()\n",
        "  for i in range(len(news)):\n",
        "    for j in range(len(news[i])):\n",
        "      news[i][j] = lemmatizer.lemmatize(news[i][j])\n",
        "  x=vector_creation(news);"
      ],
      "execution_count": 11,
      "outputs": []
    },
    {
      "cell_type": "code",
      "metadata": {
        "id": "N84UvJgNEjHy"
      },
      "source": [
        "def vector_creation(news):\n",
        "  from gensim.models import Word2Vec,KeyedVectors\n",
        "  gn_path = r'/content/drive/MyDrive/data/GoogleNews-vectors-negative300.bin'\n",
        "  model = KeyedVectors.load_word2vec_format(gn_path, binary=True)\n",
        "  from gensim.models.fasttext import FastText\n",
        "  embedding_size = 300\n",
        "  window_size = 5\n",
        "  min_word = 5\n",
        "  down_sampling = 1e-2\n",
        "  fast_Text_model  = FastText(news,size=embedding_size,window=window_size,min_count=min_word,sample=down_sampling,workers = 4,sg=1,iter=100)\n",
        "  dummy = 300*[0]\n",
        "  vec = 300*[0]\n",
        "  news_vec = []\n",
        "  count =0\n",
        "  for i in range(len(news)):\n",
        "    for j in news[i]:\n",
        "      try:\n",
        "        vec= vec+model[j]\n",
        "      except:\n",
        "        try:\n",
        "          count = count+1\n",
        "          vec= vec+fast_Text_model[j]\n",
        "        except:\n",
        "          vec= vec+dummy\n",
        "          continue\n",
        "        continue\n",
        "    news_vec.append(vec)\n",
        "  return (news_vec);\n"
      ],
      "execution_count": 22,
      "outputs": []
    },
    {
      "cell_type": "code",
      "metadata": {
        "id": "MBEdq6W_aK8-"
      },
      "source": [
        "filename = \"/content/drive/MyDrive/data/news_vec.csv\"\n",
        "f = open(filename, \"a\", encoding='utf-8')\n",
        "news_vec=vector_creation(news);\n",
        "for i in range(len(news_vec)):\n",
        "  for j in range(300):\n",
        "    f.write(str(news_vec[i][j]).replace(\"\\n\",'') + \",\")\n",
        "  f.write(\"\\n\")\n",
        "f.close"
      ],
      "execution_count": null,
      "outputs": []
    },
    {
      "cell_type": "code",
      "metadata": {
        "id": "-0P1bLIFozV-"
      },
      "source": [
        "import pandas as pd\n",
        "x = pd.read_csv(\"/content/drive/MyDrive/data/news_vec.csv\")"
      ],
      "execution_count": 15,
      "outputs": []
    },
    {
      "cell_type": "code",
      "metadata": {
        "id": "2d2YyG-nsh5r"
      },
      "source": [
        "x.columns = range(len(x.columns))\n",
        "x['Title'] = data['Title']\n",
        "x['Category'] = data['Category']\n",
        "x['Link'] = data['Unnamed: 4']\n",
        "x = x.columns.to_frame().T.append(x, ignore_index=True)\n",
        "x.to_csv('/content/drive/MyDrive/data/Final_news_vectors.csv')"
      ],
      "execution_count": 16,
      "outputs": []
    },
    {
      "cell_type": "code",
      "metadata": {
        "id": "KKn4ORf89zwN"
      },
      "source": [
        "def reco(vec):\n",
        "  import numpy as np\n",
        "  import pandas as pd\n",
        "  data_vec = pd.read_csv('/content/drive/MyDrive/data/Final_news_vectors.csv')\n",
        "  data = pd.read_csv(\"/content/drive/MyDrive/data/news.csv\")\n",
        "  data_vec=data_vec.drop(['Unnamed: 0','300'],axis=1)\n",
        "  data_vec=data_vec.drop([0],axis=0)\n",
        "  diff = data_vec[data_vec.columns[~data_vec.columns.isin(['Title','Category','Link'])]]\n",
        "  dist = []\n",
        "  count=0\n",
        "  for i in range(300):\n",
        "    if (diff[str(i)].dtype != 'float64'):\n",
        "      diff[str(i)][0]=diff[str(i)][0][:-2]\n",
        "      diff[str(i)].astype(float)\n",
        "  link = []\n",
        "  title = []\n",
        "  summary = []\n",
        "  for i in range(diff.shape[0]):\n",
        "    if np.linalg.norm(diff.loc[1000] - diff.loc[i+1]) < 100:\n",
        "      link.append(data['Title'][i])\n",
        "      title.append(data['Unnamed: 4'][i])\n",
        "      summary.append(data['Summary'][i])\n",
        "  return link,title,summary"
      ],
      "execution_count": 44,
      "outputs": []
    },
    {
      "cell_type": "code",
      "metadata": {
        "colab": {
          "base_uri": "https://localhost:8080/"
        },
        "id": "tyI964XNmA1I",
        "outputId": "30cd7aae-1b4a-47a7-f834-2480e908c0aa"
      },
      "source": [
        "link,title,summary=reco(x.iloc[2]);\n",
        "for i in range(len(link)):\n",
        "  print(link[i],\"\\n\",title[i],\"\\n\",summary[i])\n",
        "  print(\"------------------------------------------------------------------\")"
      ],
      "execution_count": 49,
      "outputs": [
        {
          "output_type": "stream",
          "text": [
            "Indian wrestlers aiming for four medals at Tokyo Olympics: WFI President \n",
            " https://www.indiatoday.in/sports/other-sports?page=7 \n",
            " The WFI president Brij Bhushan Sharan believes that the Indian wrestlingcontingent can bring home at least four medals from the Tokyo Olympics.\n",
            "------------------------------------------------------------------\n",
            "UFC 257: Poirier avenges 2014 defeat with 2nd-round knockout of McGregor \n",
            " https://www.indiatoday.in/sports/other-sports?page=7 \n",
            " Conor McGregor got off to a strong start in the first round before beingbrought down by Dustin Poirier mid-way into the second round in the mainevent of UFC 257 on Sunday.\n",
            "------------------------------------------------------------------\n",
            "IOC planning on getting all athletes vaccinated ahead of Tokyo games \n",
            " https://www.indiatoday.in/sports/other-sports?page=7 \n",
            " The International Olympic Committee (IOC) is working with the World HealthOrganization (WHO) to get all athletes^ involved in the upcoming Olympics2021^ vaccinated in order to save the Tokyo Games.\n",
            "------------------------------------------------------------------\n",
            "Thailand Open: PV Sindhu crashes out after losing to Thailand’s Ratchanok Intanon \n",
            " https://www.indiatoday.in/sports/other-sports?page=7 \n",
            " India’s PV Sindhu suffered a straight games loss to Thailand star RatchanokIntanon and crashed out of the event on Friday.\n",
            "------------------------------------------------------------------\n",
            "Japan privately concludes Olympics should be cancelled due to COVID \n",
            " https://www.indiatoday.in/sports/other-sports?page=7 \n",
            " About 80% of people in Japan do not want the Tokyo 2021 Olympic Games to beheld this summer^ recent opinion polls show^ over fears the influx ofathletes will spread the virus further.\n",
            "------------------------------------------------------------------\n",
            "Thailand Open: PV Sindhu sails through to quarter-finals after beating Selvaduray \n",
            " https://www.indiatoday.in/sports/other-sports?page=7 \n",
            " India’s PV Sindhu sailed through to the quarter-finals of Thailand Openafter a comfortable 21-10^ 21-12 win over Malaysia’s Kisona Selvaduray onThursday.\n",
            "------------------------------------------------------------------\n",
            "Thailand Open: HS Prannoy loses to Malaysia's Daren Liew in Round 2^ crashes out \n",
            " https://www.indiatoday.in/sports/other-sports?page=7 \n",
            " Just a day earlier^ HS Prannoy braved an injury scare and fought backbrilliantly after being a set down to beat the Asian Games champion JonatanChristie in the first round.\n",
            "------------------------------------------------------------------\n",
            "Thailand Open: Prannoy braves injury to beat 6th seed Christie in Round 1 \n",
            " https://www.indiatoday.in/sports/other-sports?page=8 \n",
            " HS Prannoy braved an injury scare and saved match points in the decider tobeat the Asian Games champion Jonatan Christie 18-21^ 21-16^ 23-21 in theToyota Thailand Open.\n",
            "------------------------------------------------------------------\n",
            "Nehwal up against Intanon^ Sindhu to face Busanan in Round 1 of Toyota Thailand Open \n",
            " https://www.indiatoday.in/sports/other-sports?page=8 \n",
            " After a poor show in the Yonex Thailand Open last week^ where none of theIndian players went past Round 2^ they have an opportunity to redeemthemselves in the Toyota Thailand Open that begins on Tuesday.\n",
            "------------------------------------------------------------------\n",
            "Dakar Rally 2021: Pierre Charpin dies from injuries after fall \n",
            " https://www.indiatoday.in/sports/other-sports?page=8 \n",
            " French motorcycle rider Pierre Cherpin has died five days after crashingduring the seventh stage of the Dakar rally^ organisers said on Friday.\n",
            "------------------------------------------------------------------\n",
            "Thailand Open 2021: Saina Nehwal loses in Round 2^ bows out of event \n",
            " https://www.indiatoday.in/sports/other-sports?page=8 \n",
            " India badminton star Saina Nehwal went down fighting in a three-set thrilleragainst Thailand’s Busanan Ongbamrungphan in the pre-quarterfinals ofThailand Open.\n",
            "------------------------------------------------------------------\n",
            "Day after Covid-19 positive report declared false^ Saina Nehwal wins round 1 in Thailand Open \n",
            " https://www.indiatoday.in/sports/other-sports?page=8 \n",
            " India badminton star Saina Nehwal was at her best as she downed her Malaysianopponent Kisona Selvaduray in straight sets to march into the second round ofThailand Open.\n",
            "------------------------------------------------------------------\n",
            "Thailand Open: Chirag-Satwik advance to Round 2^ Parupalli Kashyap retires hurt \n",
            " https://www.indiatoday.in/sports/other-sports?page=8 \n",
            " India ace badminton champion Parupalli Kashyap^ whose match against CanadianJason Anthony was rescheduled for Wednesday^ retired hurt in the third set ofthe match.\n",
            "------------------------------------------------------------------\n",
            "Covid-19 and sport: Are elite athletes at risk of returning to action too soon? \n",
            " https://www.indiatoday.in/sports/other-sports?page=8 \n",
            " While athletes hate being out of action^ especially ahead of major events^the Covid-19 pandemic leads us to wonder whether we are in haste to have oursportspersons back in action. Does an athlete^ who contracts the virus^ facethe risk of returning to the sport too early?\n",
            "------------------------------------------------------------------\n",
            "Thailand Open 2021: Kidambi Srikanth alleges poor treatment from medical staff \n",
            " https://www.indiatoday.in/sports/other-sports?page=8 \n",
            " India badminton star Kidambi Srikanth on Tuesday shared a photo of hisbleeding nose and alleged poor treatment from the health officials at theThailand Open in Bangkok.\n",
            "------------------------------------------------------------------\n",
            "Babita Phogat^ husband Vivek Suhag blessed with baby boy^ India wrestler shares photos \n",
            " https://www.indiatoday.in/sports/other-sports?page=8 \n",
            " Commonwealth Games gold medalist Babita Phogat and her husband Vivek Suhagtook to social media on Monday to announce the birth of their first child.\n",
            "------------------------------------------------------------------\n",
            "Thailand Open: Men’s doubles top seeds pull out after Sukamuljo tests Covid-19 positive \n",
            " https://www.indiatoday.in/sports/other-sports?page=8 \n",
            " The withdrawal of the Indonesian pair of Kevin Sanjaya Sukamuljo and MarcusFernaldi Gideon^ affectionately known as the ‘Minions’^ is the latestblow to the Thailand Open.\n",
            "------------------------------------------------------------------\n",
            "Rising coronavirus cases in Japan forces postponement of torch exhibitions \n",
            " https://www.indiatoday.in/sports/other-sports?page=8 \n",
            " Japanese Prime Minister Yoshihide Suga has ordered a state of emergency forTokyo and the surrounding areas until next month after a jump of over 50 percent in the COVID-19 cases.\n",
            "------------------------------------------------------------------\n",
            "Thailand Open: Saina Nehwal and rest of Indian contingent clear Covid-19 test \n",
            " https://www.indiatoday.in/sports/other-sports?page=8 \n",
            " The Indian team and all other athletes and staff who are part of thetournament were tested on their arrival in Bangkok^ and all 824 participants^have tested negative.\n",
            "------------------------------------------------------------------\n",
            "Saina Nehwal hits out at BWF for restrictions on players in Thailand \n",
            " https://www.indiatoday.in/sports/other-sports?page=9 \n",
            " Badminton star Saina Nehwal hit out at the Badminton World Federation for itsrestrictions on players in Thailand pointing out how many of the rulesdon’t seem to make sense.\n",
            "------------------------------------------------------------------\n",
            "World No.1 Kento Momota tests Covid-19 positive ahead of Thailand Open \n",
            " https://www.indiatoday.in/sports/other-sports?page=9 \n",
            " Men’s World No. 1 badminton player Kento Momota tested positive forCovid-19 on Sunday just before the Japanese delegation was to leave forBangkok for the Thailand Open.\n",
            "------------------------------------------------------------------\n"
          ],
          "name": "stdout"
        }
      ]
    },
    {
      "cell_type": "code",
      "metadata": {
        "id": "TfrSwl1otQJb"
      },
      "source": [
        "import numpy as np\n",
        "from flask import Flask, request, render_template\n",
        "#import spacy\n",
        "from flask_ngrok import run_with_ngrok\n",
        "doc_idx = 0\n",
        "user_idx = 0\n",
        "user_new = np.zeros((1,20))\n",
        "app = Flask(_name_, template_folder= 'NLP_Recommender')\n",
        "run_with_ngrok(app)\n",
        "\n",
        "\n",
        "@app.route('/', methods=['GET', 'POST'])\n",
        "def homepage():\n",
        "  return render_template('index2.html')\n",
        "\n",
        "@app.route('/newUser_page', methods=['GET', 'POST'])\n",
        "def newUser_page():\n",
        "  output_new_user, user_topic_matrix1 = newUserHybridRecommender(new_user_vec, user_topic_matrix, doc_topic_matrix)\n",
        "  user_new = user_topic_matrix1[-1]\n",
        "  user_idx = user_topic_matrix1.shape[0]\n",
        "  return render_template('index3.html',user_id = user_idx, data1 = output_new_user[0][1],data2 = output_new_user[1][1],data3 = output_new_user[2][1],data4 = output_new_user[3][1],data5 = output_new_user[4][1],data6 = output_new_user[5][1],data7 = output_new_user[6][1],data8 = output_new_user[7][1],data9 = output_new_user[8][1],data10 = output_new_user[9][1])\n",
        "\n",
        "\n",
        "@app.route('/existingUser', methods=['GET', 'POST'])\n",
        "def existingUser_page():\n",
        "  return render_template('index4.html') #, data=request.form['text'], response=doc)\n",
        "\n",
        "@app.route('/existingUser_headLiness', methods=['GET', 'POST'])\n",
        "def existingUser_headLiness():\n",
        "  user_idx =int(request.form.get('text'))\n",
        "  print(user_topic_matrix[user_idx-1])\n",
        "  output_new_user1,kk = newUserHybridRecommender(user_topic_matrix[user_idx-1], user_topic_matrix, doc_topic_matrix)\n",
        "  print(output_new_user1)\n",
        "  return render_template('index3.html', user_id = user_idx, data1 = output_new_user1[0][1],data2 = output_new_user1[1][1],data3 = output_new_user1[2][1],data4 = output_new_user1[3][1],data5 = output_new_user1[4][1],data6 = output_new_user1[5][1],data7 = output_new_user1[6][1],data8 = output_new_user1[7][1],data9 = output_new_user1[8][1],data10 = output_new_user1[9][1])\n",
        "\n",
        "\n",
        "\n",
        "@app.route('/activeUser_headLiness', methods=['GET', 'POST'])\n",
        "def existingUser_headLiness():\n",
        "  output_new_user2 = oldUserHybridRecommender(user_idx, doc_id, user_topic_matrix, doc_topic_matrix)\n",
        "  print(user_topic_matrix[user_idx-1])\n",
        "  print(output_new_user2)\n",
        "  return render_template('index3.html', user_id = user_idx, data1 = output_new_user2[0][1],data2 = output_new_user2[1][1],data3 = output_new_user2[2][1],data4 = output_new_user2[3][1],data5 = output_new_user2[4][1],data6 = output_new_user2[5][1],data7 = output_new_user2[6][1],data8 = output_new_user2[7][1],data9 = output_new_user2[8][1],data10 = output_new_user2[9][1])\n",
        "\n",
        "@app.route('/content_page',methods=['GET','POST'])\n",
        "def content_page():\n",
        "  if request.method == \"POST\":\n",
        "    if request.form.get(\"1\"):\n",
        "      final_data = articlesnew[0][2]\n",
        "      doc_id = articlesnew[0][0]\n",
        "    elif request.form.get(\"2\"):\n",
        "      final_data = articlesnew[1][2]\n",
        "      doc_id = articlesnew[1][0]\n",
        "    elif request.form.get(\"3\"):\n",
        "      final_data = articlesnew[2][2]\n",
        "      doc_id = articlesnew[2][0]\n",
        "    elif request.form.get(\"4\"):\n",
        "      final_data = articlesnew[3][2]\n",
        "      doc_id = articlesnew[3][0]\n",
        "    elif request.form.get(\"5\"):\n",
        "      final_data = articlesnew[4][2]\n",
        "      doc_id = articlesnew[4][0]\n",
        "    elif request.form.get(\"6\"):\n",
        "      final_data = articlesnew[5][2]\n",
        "      doc_id = articlesnew[5][0]\n",
        "    elif request.form.get(\"7\"):\n",
        "      final_data = articlesnew[6][2]\n",
        "      doc_id = articlesnew[6][0]\n",
        "    elif request.form.get(\"8\"):\n",
        "      final_data = articlesnew[7][2]\n",
        "      doc_id = articlesnew[7][0]\n",
        "    elif request.form.get(\"9\"):\n",
        "      final_data = articlesnew[8][2]\n",
        "      doc_id = articlesnew[8][0]\n",
        "    elif request.form.get(\"10\"):\n",
        "      final_data = articlesnew[9][2]\n",
        "      doc_id = articlesnew[9][0]\n",
        "    return render_template('index5.html',summary=final_data)\n",
        "\n",
        "if _name_ == '_main_':\n",
        "  app.run()"
      ],
      "execution_count": null,
      "outputs": []
    }
  ]
}